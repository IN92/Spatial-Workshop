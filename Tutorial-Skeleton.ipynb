{
 "cells": [
  {
   "cell_type": "markdown",
   "metadata": {},
   "source": [
    "# Spatial Data Science Workshop\n",
    "## Cristina KADAR & Benjamin RYDER\n",
    "## 20th September 2017"
   ]
  },
  {
   "cell_type": "markdown",
   "metadata": {},
   "source": [
    "**Goal:** Familiarize participants with the challenges of working with geo-referenced multi-modal data (governmental data, open data, online digital traces, etc.).\n",
    "\n",
    "**Problem:** How are an areas Airbnb prices influenced by the listing properties and the attributes of the neighborhood?\n",
    "\n",
    "**Data:** We will make the data available for download on the tutorial’s website.\n",
    "\n",
    "**Software:** Participants will be required to have the packages/tools pre-installed. "
   ]
  },
  {
   "cell_type": "markdown",
   "metadata": {},
   "source": [
    "## Lets get started..\n",
    "**Import relevent libraries and check Python version**\n",
    "We have tested with Python Version: 3.5.2"
   ]
  },
  {
   "cell_type": "code",
   "execution_count": null,
   "metadata": {
    "collapsed": true
   },
   "outputs": [],
   "source": [
    "%matplotlib inline\n",
    "\n",
    "from Resources import helpers\n",
    "import matplotlib.pyplot as plt\n",
    "import numpy as np\n",
    "import pandas as pd\n",
    "import pysal as ps\n",
    "import geopandas as gpd\n",
    "# You may need palettable: pip install palettable\n",
    "from pylab import *\n",
    "import sys\n",
    "import platform\n",
    "\n",
    "\n",
    "print(sys.version_info)\n",
    "print(\"Python Version: \" + str(platform.python_version()))"
   ]
  },
  {
   "cell_type": "markdown",
   "metadata": {},
   "source": [
    "**Set some useful parameters**"
   ]
  },
  {
   "cell_type": "code",
   "execution_count": null,
   "metadata": {
    "collapsed": true
   },
   "outputs": [],
   "source": [
    "# Some useful parameters that we don't need to set later\n",
    "params = {'legend.fontsize': 20}\n",
    "plt.rcParams.update(params)\n",
    "tfs = 20"
   ]
  },
  {
   "cell_type": "markdown",
   "metadata": {},
   "source": [
    "**And lets define some useful functions which are need later**"
   ]
  },
  {
   "cell_type": "code",
   "execution_count": null,
   "metadata": {
    "collapsed": true
   },
   "outputs": [],
   "source": [
    "# plotNeighborGraph: Plot maps wiith neighbor links\n",
    "def plotNeighborGraph(title, grouping):\n",
    "    f, ax = plt.subplots(1, figsize=(20, 20))\n",
    "    dataset.plot(ax=ax, linewidth=0.5,color='white')\n",
    "    plt.plot(centroids[:,0], centroids[:,1],'.')\n",
    "    for k,neighs in grouping.neighbors.items():\n",
    "        origin = centroids[k]\n",
    "        for neigh in neighs:\n",
    "            segment = centroids[[k,neigh]]\n",
    "            plt.plot(segment[:,0], segment[:,1], '-')\n",
    "    plt.title(title, fontsize=tfs)\n",
    "    ax.set_axis_off()\n",
    "    show()\n",
    "    \n",
    "# analyse_and_transform_wrapper: analyse_and_transform normalises variables with BoxCox\n",
    "# this function wraps around to use with multiple values  \n",
    "def analyse_and_transform_wrapper(names,data):\n",
    "    for n in names:\n",
    "        data[n] = helpers.analyse_and_transform(data[n])\n",
    "    return data"
   ]
  },
  {
   "cell_type": "markdown",
   "metadata": {},
   "source": [
    "## Data\n",
    "**We need to import the data that we're using - this should be included in the git project**"
   ]
  },
  {
   "cell_type": "code",
   "execution_count": null,
   "metadata": {
    "collapsed": true
   },
   "outputs": [],
   "source": [
    "shp_link = \"./Data_Part2/nyc_census_tract_features_v3_export.shp\"\n",
    "dataset =\n",
    "\n",
    "\n",
    "# Interested in the full list of variables? Uncomment and run the command below\n",
    "#dataset.columns.tolist()"
   ]
  },
  {
   "cell_type": "markdown",
   "metadata": {},
   "source": [
    "**Lets see what area this data looks like!**"
   ]
  },
  {
   "cell_type": "code",
   "execution_count": null,
   "metadata": {
    "collapsed": true
   },
   "outputs": [],
   "source": [
    "f, ax = plt.subplots(1, figsize=(20, 20))\n",
    "\n",
    "plt.title('', fontsize=tfs)\n",
    "ax.set_axis_off()\n",
    "plt.show()"
   ]
  },
  {
   "cell_type": "markdown",
   "metadata": {},
   "source": [
    "**Let's also generate the central points for each of these census tracts...**"
   ]
  },
  {
   "cell_type": "code",
   "execution_count": null,
   "metadata": {
    "collapsed": true
   },
   "outputs": [],
   "source": [
    "dataframe = \n",
    "centroids = "
   ]
  },
  {
   "cell_type": "markdown",
   "metadata": {},
   "source": [
    "**... And display these on the same map as before**"
   ]
  },
  {
   "cell_type": "code",
   "execution_count": null,
   "metadata": {
    "collapsed": true
   },
   "outputs": [],
   "source": [
    "\n",
    "\n",
    "\n",
    "\n",
    "\n"
   ]
  },
  {
   "cell_type": "markdown",
   "metadata": {},
   "source": [
    "## Neighbors\n",
    "**Neighbors can be defined in many ways, one of the simplest is to take the** 'K-nearest Neighbors' **of each centroid point**\n",
    "\n",
    "**This is very easy with pysal and shapefiles!**"
   ]
  },
  {
   "cell_type": "code",
   "execution_count": null,
   "metadata": {
    "collapsed": true
   },
   "outputs": [],
   "source": [
    "knn = \n"
   ]
  },
  {
   "cell_type": "markdown",
   "metadata": {},
   "source": [
    "**To test this, we can take a single point, and link this with its neighbors**"
   ]
  },
  {
   "cell_type": "code",
   "execution_count": null,
   "metadata": {
    "collapsed": true
   },
   "outputs": [],
   "source": [
    "self_and_neighbors =\n",
    "\n",
    "\n"
   ]
  },
  {
   "cell_type": "markdown",
   "metadata": {},
   "source": [
    "**Lets use one of the predefined functions to visualise this to check how the linking looks**"
   ]
  },
  {
   "cell_type": "code",
   "execution_count": null,
   "metadata": {
    "collapsed": true,
    "scrolled": true
   },
   "outputs": [],
   "source": []
  },
  {
   "cell_type": "markdown",
   "metadata": {},
   "source": [
    "**There are clearly some issues with this approach**\n",
    "\n",
    "**Other techniques are more suitabe when the map data is available**\n",
    "\n",
    "**Queens Neighbors are those that share an edge OR a corner, and can also be easily generated from shapefiles** "
   ]
  },
  {
   "cell_type": "code",
   "execution_count": null,
   "metadata": {
    "collapsed": true
   },
   "outputs": [],
   "source": [
    "qW = \n"
   ]
  },
  {
   "cell_type": "markdown",
   "metadata": {},
   "source": [
    "**This is much better, but perhaps overkill for our problem right now.**\n",
    "\n",
    "**Especially as US census tracts are often 'grid' based.**\n",
    "\n",
    "** Rook Neighbors are similar to Queens, but link only via edges (and not corners)**\n",
    "\n",
    "**.. and can be generated in the same way as before**"
   ]
  },
  {
   "cell_type": "code",
   "execution_count": null,
   "metadata": {
    "collapsed": true
   },
   "outputs": [],
   "source": [
    "rW = \n"
   ]
  },
  {
   "cell_type": "markdown",
   "metadata": {},
   "source": [
    "## Visualising the data\n",
    "\n",
    "** So we have some neighbors, but what are we actually investigating here**\n",
    "\n",
    "** Average AirBnB listing price in New York Census Tracts**\n",
    "\n",
    "** Lets add this to our map!**"
   ]
  },
  {
   "cell_type": "code",
   "execution_count": null,
   "metadata": {
    "collapsed": true
   },
   "outputs": [],
   "source": [
    "f, ax = plt.subplots(1, figsize=(20, 20))\n",
    "\n",
    "plt.title('', fontsize=tfs)\n",
    "ax.set_axis_off()\n",
    "plt.show()"
   ]
  },
  {
   "cell_type": "markdown",
   "metadata": {},
   "source": [
    "**Interesting, but not so useful for us to interpret really**\n",
    "\n",
    "**We should take a closer look at the data**"
   ]
  },
  {
   "cell_type": "code",
   "execution_count": null,
   "metadata": {
    "collapsed": true
   },
   "outputs": [],
   "source": []
  },
  {
   "cell_type": "markdown",
   "metadata": {},
   "source": [
    "**There are some clear outliers**"
   ]
  },
  {
   "cell_type": "code",
   "execution_count": null,
   "metadata": {
    "collapsed": true
   },
   "outputs": [],
   "source": []
  },
  {
   "cell_type": "markdown",
   "metadata": {},
   "source": [
    "**We can manage these outliers by calculating the quantiles of the data, and help us see patterns in the data**"
   ]
  },
  {
   "cell_type": "code",
   "execution_count": null,
   "metadata": {
    "collapsed": true
   },
   "outputs": [],
   "source": [
    "bin_n=\n",
    "quantiles = \n"
   ]
  },
  {
   "cell_type": "markdown",
   "metadata": {},
   "source": [
    "**Let's see if this helps us interpret the data more easily..**"
   ]
  },
  {
   "cell_type": "code",
   "execution_count": null,
   "metadata": {
    "collapsed": true
   },
   "outputs": [],
   "source": [
    "f, ax = plt.subplots(1, figsize=(20, 20))\n",
    "\n",
    "\n",
    "\n",
    "\n",
    "\n",
    "plt.title('', fontsize=tfs)\n",
    "ax.set_axis_off()\n",
    "plt.show()"
   ]
  },
  {
   "cell_type": "markdown",
   "metadata": {},
   "source": [
    "**Interesting, but still not very intuitive or easy to interpret**\n",
    "\n",
    "** Color maps can be found at following link: **\n",
    "https://matplotlib.org/examples/color/colormaps_reference.html"
   ]
  },
  {
   "cell_type": "code",
   "execution_count": null,
   "metadata": {
    "collapsed": true
   },
   "outputs": [],
   "source": [
    "f, ax = plt.subplots(1, figsize=(20, 20))\n",
    "dataset.assign( = ).plot(ax= , \\\n",
    "                                                linewidth= , \\\n",
    "                                                column= , \\\n",
    "                                                cmap= , \\\n",
    "                                                categorical= , \\\n",
    "                                                legend= )\n",
    "\n",
    "plt.title('', fontsize=tfs)\n",
    "ax.set_axis_off()\n",
    "plt.show()"
   ]
  },
  {
   "cell_type": "markdown",
   "metadata": {},
   "source": [
    "## Regressions\n",
    "\n",
    "**We can 'see' some spatial patterns in the data, so let's get down to the regression business** \n",
    "\n",
    "** First step: Normalising our dependent variable**"
   ]
  },
  {
   "cell_type": "code",
   "execution_count": null,
   "metadata": {
    "collapsed": true
   },
   "outputs": [],
   "source": [
    "name_y = \n",
    "y = \n",
    "ln_y = \n",
    "transformed_y = \n",
    "\n",
    "# An alternative is to use the BoxCox transformation, uncomment the line below to apply this instead\n",
    "#transformed_y = analyse_and_transform_wrapper(name_y,y)"
   ]
  },
  {
   "cell_type": "markdown",
   "metadata": {},
   "source": [
    "**We'll use the Rook Neighbors weighting from before**\n",
    "\n",
    "**The weights have to be transformed into rows in order to be used...**\n",
    "\n",
    "**... and then use the pysal spatial lag function with the weights and our dependent variable**"
   ]
  },
  {
   "cell_type": "code",
   "execution_count": null,
   "metadata": {
    "collapsed": true
   },
   "outputs": [],
   "source": [
    "rW.transform = \n",
    "transformed_y_lag = "
   ]
  },
  {
   "cell_type": "markdown",
   "metadata": {},
   "source": [
    "**Let's see what these lag values look like!**"
   ]
  },
  {
   "cell_type": "code",
   "execution_count": null,
   "metadata": {
    "collapsed": true
   },
   "outputs": [],
   "source": [
    "f, ax = plt.subplots(1, figsize=(20, 20))\n",
    "dataset.assign( = ).plot(ax= , \\\n",
    "                                                         linewidth= , \\\n",
    "                                                         column= , \\\n",
    "                                                         cmap= )\n",
    "\n",
    "plt.title('', fontsize=tfs)\n",
    "ax.set_axis_off()\n",
    "plt.show()"
   ]
  },
  {
   "cell_type": "markdown",
   "metadata": {},
   "source": [
    "**In PySAL, commonly-used analysis methods are very easy to access. **\n",
    "\n",
    "**For example, we can quickly compute a Moran's I statistic for price**"
   ]
  },
  {
   "cell_type": "code",
   "execution_count": null,
   "metadata": {
    "collapsed": true
   },
   "outputs": [],
   "source": [
    "MI_transformed_y = \n"
   ]
  },
  {
   "cell_type": "markdown",
   "metadata": {},
   "source": [
    "**We can plot this and see the relationship between the price and the surrounding lagged price** "
   ]
  },
  {
   "cell_type": "code",
   "execution_count": null,
   "metadata": {
    "collapsed": true
   },
   "outputs": [],
   "source": [
    "f, ax = plt.subplots(1, figsize=(9, 9))\n",
    "\n",
    "plt.plot( ,  , '.', color='firebrick')\n",
    "\n",
    "plt.vlines(transformed_y.mean(), transformed_y_lag.min(), transformed_y_lag.max(), linestyle='--')\n",
    "plt.hlines(transformed_y_lag.mean(), transformed_y.min(), transformed_y.max(), linestyle='--')\n",
    "\n",
    "# red line of best fit using global I as slope\n",
    "plt.plot( , * , 'r')\n",
    "\n",
    "plt.title(' ')\n",
    "plt.ylabel('Spatial Lag of Transformed Variable')\n",
    "plt.xlabel('Transformed Variable')\n",
    "plt.show()\n"
   ]
  },
  {
   "cell_type": "markdown",
   "metadata": {},
   "source": [
    "**Lets grab some independent variables...**"
   ]
  },
  {
   "cell_type": "code",
   "execution_count": null,
   "metadata": {
    "collapsed": true
   },
   "outputs": [],
   "source": [
    "name_x = \n",
    "x =  \n",
    "transformed_x = "
   ]
  },
  {
   "cell_type": "markdown",
   "metadata": {},
   "source": [
    "**To run the model, we can use the spreg module in PySAL, which implements a standard OLS routine, but is particularly well suited for regressions on spatial data. Also, although for the initial model we do not need it, let us build a spatial weights matrix that connects every observation to its 8 nearest neighbors. This will allow us to get extra diagnostics from the baseline model.**"
   ]
  },
  {
   "cell_type": "code",
   "execution_count": null,
   "metadata": {
    "collapsed": true
   },
   "outputs": [],
   "source": [
    "model_ols = ps.spreg.OLS(y= , \\\n",
    "                         x= , \\\n",
    "                         w= , \\\n",
    "                         name_y= , \\\n",
    "                         name_x= , \\\n",
    "                         spat_diag= )\n"
   ]
  },
  {
   "cell_type": "markdown",
   "metadata": {},
   "source": [
    "**If we include the lagged prices of the neighbors in the model, we violate some of the assumptions on which OLS relies. **\n",
    "\n",
    "**We can use GM_lag to account for this and include these spatially lagged varibles**"
   ]
  },
  {
   "cell_type": "code",
   "execution_count": null,
   "metadata": {
    "collapsed": true
   },
   "outputs": [],
   "source": [
    "model_lag = ps.spreg.GM_Lag(y=, \\\n",
    "                            x=, \\\n",
    "                            w=, \\\n",
    "                            name_y=, \\\n",
    "                            name_x=)\n"
   ]
  },
  {
   "cell_type": "markdown",
   "metadata": {},
   "source": [
    "**There are several over spatial regression methods built into PySAL**\n",
    "\n",
    "**Spatial Error is when the error values in the models are spatially lagged**"
   ]
  },
  {
   "cell_type": "code",
   "execution_count": null,
   "metadata": {
    "collapsed": true
   },
   "outputs": [],
   "source": [
    "model_error = ps.spreg.GM_Error(y= , \\\n",
    "                                x= , \\\n",
    "                                w= , \\\n",
    "                                name_y= , \\\n",
    "                                name_x= )\n"
   ]
  },
  {
   "cell_type": "markdown",
   "metadata": {},
   "source": [
    "**Spatial Combo is when both the dependent variable and the error values in the models are spatially lagged**"
   ]
  },
  {
   "cell_type": "code",
   "execution_count": null,
   "metadata": {
    "collapsed": true
   },
   "outputs": [],
   "source": [
    "model_combo = ps.spreg.GM_Combo(y= , \\\n",
    "                                x= , \\\n",
    "                                w= , \\\n",
    "                                name_y= , \\\n",
    "                                name_x= )\n"
   ]
  },
  {
   "cell_type": "markdown",
   "metadata": {},
   "source": [
    "**Interested in trying out some other regressions? Here's a list of the variables in the dataset**\n",
    "\n",
    "*Needs interpretting..*"
   ]
  },
  {
   "cell_type": "code",
   "execution_count": null,
   "metadata": {
    "collapsed": true
   },
   "outputs": [],
   "source": [
    "dataset.columns.tolist()"
   ]
  }
 ],
 "metadata": {
  "kernelspec": {
   "display_name": "Python 3",
   "language": "python",
   "name": "python3"
  },
  "language_info": {
   "codemirror_mode": {
    "name": "ipython",
    "version": 3
   },
   "file_extension": ".py",
   "mimetype": "text/x-python",
   "name": "python",
   "nbconvert_exporter": "python",
   "pygments_lexer": "ipython3",
   "version": "3.5.2"
  }
 },
 "nbformat": 4,
 "nbformat_minor": 1
}
